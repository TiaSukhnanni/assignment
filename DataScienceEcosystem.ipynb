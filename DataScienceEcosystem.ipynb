{
 "cells": [
  {
   "cell_type": "markdown",
   "id": "1c553851-149c-4648-8162-42729de42de8",
   "metadata": {},
   "source": [
    "# Data Science Tools and Ecosystem"
   ]
  },
  {
   "cell_type": "markdown",
   "id": "53d07970-2bfc-4d58-82ee-f7f4f31a9796",
   "metadata": {},
   "source": [
    "### In this notebook, Data Science Tools and Ecosystem are summarized."
   ]
  },
  {
   "cell_type": "markdown",
   "id": "0d2e798b-bef6-4b0a-a9c9-86b968ae4b6e",
   "metadata": {},
   "source": [
    "### Some of the popular languages that Data Scientists use are:\n"
   ]
  },
  {
   "cell_type": "markdown",
   "id": "6dfa2db1-a77a-4366-b048-4a9da05c3020",
   "metadata": {},
   "source": [
    "1. Python\n",
    "2. R\n",
    "3. SQL"
   ]
  },
  {
   "cell_type": "markdown",
   "id": "39c22053-4df7-4cb7-8dc7-340c2b153c49",
   "metadata": {},
   "source": [
    "### Some of the commonly used libraries used by Data Scientists include:\n",
    "1. Pandas\n",
    "2. Matplotlib\n",
    "3. Numpy\n",
    "4. ggplot"
   ]
  },
  {
   "cell_type": "markdown",
   "id": "145ec175-2e70-48e6-8893-54810dbd178e",
   "metadata": {},
   "source": [
    "|Data Science Tools|\n",
    "|------------------|\n",
    "|RStudio|\n",
    "|Jupyter Notebooks|\n",
    "|GitHub|"
   ]
  },
  {
   "cell_type": "markdown",
   "id": "09e630d3-b346-4242-9c93-031c08b2b780",
   "metadata": {},
   "source": [
    "### Below are a few examples of evaluating arithmetic expressions in Python.\n"
   ]
  },
  {
   "cell_type": "code",
   "execution_count": 9,
   "id": "299453f1-2da7-4d18-97e0-53ca808d4366",
   "metadata": {},
   "outputs": [
    {
     "name": "stdout",
     "output_type": "stream",
     "text": [
      "17\n"
     ]
    }
   ],
   "source": [
    "#This a simple arithmetic expression to mutiply then add integers\n",
    "print((3*4)+5)"
   ]
  },
  {
   "cell_type": "code",
   "execution_count": 11,
   "id": "db228ef5-81ce-4e55-9247-15a9378f4175",
   "metadata": {},
   "outputs": [
    {
     "name": "stdout",
     "output_type": "stream",
     "text": [
      "3.3333333333333335\n"
     ]
    }
   ],
   "source": [
    "#This will convert 200 minutes to hours by diving by 60\n",
    "print(200/60)"
   ]
  },
  {
   "cell_type": "markdown",
   "id": "f1b78ed6-ccfc-4662-8e95-1fb508c7b73d",
   "metadata": {},
   "source": [
    "**Objectives:**\n",
    "* Python libraries\n",
    "* RStudio\n",
    "* JupyterLab\n",
    "* WatsonStudio"
   ]
  },
  {
   "cell_type": "markdown",
   "id": "2ae9dad5-8ee4-41c3-a415-a4d40cfd49ab",
   "metadata": {},
   "source": [
    "## Author\n",
    "Tia Sukhnanni"
   ]
  },
  {
   "cell_type": "code",
   "execution_count": null,
   "id": "c673de3c-aa0f-4ffe-9210-1d927895a7d8",
   "metadata": {},
   "outputs": [],
   "source": []
  }
 ],
 "metadata": {
  "kernelspec": {
   "display_name": "Python [conda env:base] *",
   "language": "python",
   "name": "conda-base-py"
  },
  "language_info": {
   "codemirror_mode": {
    "name": "ipython",
    "version": 3
   },
   "file_extension": ".py",
   "mimetype": "text/x-python",
   "name": "python",
   "nbconvert_exporter": "python",
   "pygments_lexer": "ipython3",
   "version": "3.12.7"
  }
 },
 "nbformat": 4,
 "nbformat_minor": 5
}
